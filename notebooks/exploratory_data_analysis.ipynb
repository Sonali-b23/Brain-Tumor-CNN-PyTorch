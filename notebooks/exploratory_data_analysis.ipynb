{
 "cells": [
  {
   "cell_type": "code",
   "execution_count": null,
   "id": "462956f6",
   "metadata": {},
   "outputs": [
    {
     "ename": "",
     "evalue": "",
     "output_type": "error",
     "traceback": [
      "\u001b[1;31mRunning cells with 'Python 3.7.0' requires the ipykernel package.\n",
      "\u001b[1;31m<a href='command:jupyter.createPythonEnvAndSelectController'>Create a Python Environment</a> with the required packages.\n",
      "\u001b[1;31mOr install 'ipykernel' using the command: 'c:/Users/sonal/AppData/Local/Programs/Python/Python37/python.exe -m pip install ipykernel -U --user --force-reinstall'"
     ]
    }
   ],
   "source": [
    "import os\n",
    "import matplotlib.pyplot as plt\n",
    "import seaborn as sns\n",
    "import numpy as np\n",
    "from PIL import Image\n",
    "import random\n",
    "from pathlib import Path\n"
   ]
  },
  {
   "cell_type": "code",
   "execution_count": null,
   "id": "81be1894",
   "metadata": {},
   "outputs": [],
   "source": [
    "DATA_DIR = Path(\"../data/train\")  # adjust path if needed\n",
    "classes = ['yes', 'no']\n",
    "\n",
    "# Count images in each class\n",
    "counts = {cls: len(list((DATA_DIR/cls).glob(\"*.jpg\"))) for cls in classes}\n",
    "print(\"Image count per class:\", counts)\n",
    "\n",
    "# Plot class distribution\n",
    "sns.barplot(x=list(counts.keys()), y=list(counts.values()))\n",
    "plt.title(\"Class Distribution (Tumor vs No Tumor)\")\n",
    "plt.show()\n"
   ]
  },
  {
   "cell_type": "code",
   "execution_count": null,
   "id": "879bfbe1",
   "metadata": {},
   "outputs": [],
   "source": [
    "def show_random_images(cls, num=5):\n",
    "    imgs = list((DATA_DIR/cls).glob(\"*.jpg\"))\n",
    "    selected = random.sample(imgs, num)\n",
    "\n",
    "    fig, axs = plt.subplots(1, num, figsize=(15,5))\n",
    "    for ax, img_path in zip(axs, selected):\n",
    "        img = Image.open(img_path)\n",
    "        ax.imshow(img, cmap='gray')\n",
    "        ax.set_title(cls)\n",
    "        ax.axis('off')\n",
    "    plt.suptitle(f\"Sample images from class: {cls}\")\n",
    "    plt.show()\n",
    "\n",
    "show_random_images('yes')\n",
    "show_random_images('no')\n"
   ]
  },
  {
   "cell_type": "code",
   "execution_count": null,
   "id": "938ae0a3",
   "metadata": {},
   "outputs": [],
   "source": [
    "sizes = []\n",
    "for cls in classes:\n",
    "    for img_path in (DATA_DIR / cls).glob(\"*.jpg\"):\n",
    "        with Image.open(img_path) as img:\n",
    "            sizes.append(img.size)\n",
    "\n",
    "# Plot most common image sizes\n",
    "from collections import Counter\n",
    "size_counts = Counter(sizes)\n",
    "common_sizes = size_counts.most_common(5)\n",
    "print(\"Most common image sizes:\", common_sizes)\n",
    "\n",
    "# Plot distribution\n",
    "widths, heights = zip(*sizes)\n",
    "plt.figure(figsize=(10,5))\n",
    "plt.subplot(1,2,1)\n",
    "sns.histplot(widths, bins=20, kde=False)\n",
    "plt.title(\"Image Widths\")\n",
    "\n",
    "plt.subplot(1,2,2)\n",
    "sns.histplot(heights, bins=20, kde=False)\n",
    "plt.title(\"Image Heights\")\n",
    "plt.tight_layout()\n",
    "plt.show()\n"
   ]
  },
  {
   "cell_type": "code",
   "execution_count": null,
   "id": "5fd0ea55",
   "metadata": {},
   "outputs": [],
   "source": [
    "img_path = list((DATA_DIR / 'yes').glob(\"*.jpg\"))[0]\n",
    "img = Image.open(img_path)\n",
    "print(\"Mode:\", img.mode)  # L = grayscale, RGB = color\n",
    "\n",
    "plt.imshow(img, cmap='gray')\n",
    "plt.title(\"Sample MRI\")\n",
    "plt.axis('off')\n",
    "plt.show()\n"
   ]
  },
  {
   "cell_type": "code",
   "execution_count": null,
   "id": "6554cfdd",
   "metadata": {},
   "outputs": [],
   "source": [
    "gray_values = []\n",
    "\n",
    "for cls in classes:\n",
    "    for img_path in (DATA_DIR / cls).glob(\"*.jpg\"):\n",
    "        img = Image.open(img_path).convert('L')  # grayscale\n",
    "        gray_values.extend(np.array(img).flatten())\n",
    "\n",
    "sns.histplot(gray_values, bins=50, kde=True)\n",
    "plt.title(\"Pixel Intensity Distribution (Grayscale)\")\n",
    "plt.xlabel(\"Pixel value (0-255)\")\n",
    "plt.show()\n"
   ]
  },
  {
   "cell_type": "code",
   "execution_count": null,
   "id": "df4456f4",
   "metadata": {},
   "outputs": [],
   "source": []
  }
 ],
 "metadata": {
  "kernelspec": {
   "display_name": "Python 3",
   "language": "python",
   "name": "python3"
  },
  "language_info": {
   "name": "python",
   "version": "3.7.0"
  }
 },
 "nbformat": 4,
 "nbformat_minor": 5
}
